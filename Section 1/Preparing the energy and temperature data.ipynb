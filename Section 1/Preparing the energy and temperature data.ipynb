{
 "cells": [
  {
   "cell_type": "markdown",
   "metadata": {},
   "source": [
    "### 1) Load the energy and temperature data sets into a single pandas data frame that is matched by date."
   ]
  },
  {
   "cell_type": "code",
   "execution_count": 1,
   "metadata": {},
   "outputs": [],
   "source": [
    "import pandas as pd\n",
    "\n",
    "file_1 = pd.read_csv(\n",
    "    \"./Milestone 1 Dataset/hr_temp_20170201-20200131_subset.csv\", parse_dates=[\"DATE\"]\n",
    ")\n",
    "file_2 = pd.read_csv(\n",
    "    \"./Milestone 1 Dataset/hr_temp_20200201-20200229_subset.csv\", parse_dates=[\"DATE\"]\n",
    ")\n",
    "file_3 = pd.read_csv(\n",
    "    \"./Milestone 1 Dataset/hrl_load_metered - 20170201-20200131.csv\",\n",
    "    parse_dates=[\"datetime_beginning_utc\", \"datetime_beginning_ept\"],\n",
    ")"
   ]
  },
  {
   "cell_type": "code",
   "execution_count": 2,
   "metadata": {},
   "outputs": [],
   "source": [
    "concatenated_data = pd.concat(\n",
    "    [file_1, file_2, file_3.rename(columns={\"datetime_beginning_utc\": \"DATE\"})]\n",
    ")"
   ]
  },
  {
   "cell_type": "code",
   "execution_count": 3,
   "metadata": {},
   "outputs": [],
   "source": [
    "energy_and_temp_df = concatenated_data.loc[:, [\"DATE\", \"HourlyDryBulbTemperature\", \"mw\"]]\n",
    "energy_and_temp_df = energy_and_temp_df.rename(columns={\"HourlyDryBulbTemperature\": \"temperature\"})"
   ]
  },
  {
   "cell_type": "markdown",
   "metadata": {},
   "source": [
    "### 2) Create variables for the hour of day, the day of week, the month, and the year for each observation."
   ]
  },
  {
   "cell_type": "code",
   "execution_count": 4,
   "metadata": {},
   "outputs": [],
   "source": [
    "energy_and_temp_df[\"year\"] = energy_and_temp_df[\"DATE\"].dt.year\n",
    "energy_and_temp_df[\"month\"] = energy_and_temp_df[\"DATE\"].dt.month\n",
    "energy_and_temp_df[\"hour\"] = energy_and_temp_df[\"DATE\"].dt.hour\n",
    "energy_and_temp_df[\"weekday\"] = energy_and_temp_df[\"DATE\"].dt.weekday"
   ]
  },
  {
   "cell_type": "markdown",
   "metadata": {},
   "source": [
    "## 3) Set DATE as index"
   ]
  },
  {
   "cell_type": "code",
   "execution_count": 5,
   "metadata": {},
   "outputs": [],
   "source": [
    "energy_and_temp_df = energy_and_temp_df.set_index(\"DATE\")"
   ]
  },
  {
   "cell_type": "markdown",
   "metadata": {},
   "source": [
    "## 4) Interpolate the temperature"
   ]
  },
  {
   "cell_type": "code",
   "execution_count": 6,
   "metadata": {},
   "outputs": [],
   "source": [
    "energy_and_temp_df[\"temperature\"] = energy_and_temp_df[\"temperature\"].interpolate(\"linear\")"
   ]
  },
  {
   "cell_type": "markdown",
   "metadata": {},
   "source": [
    "## 5) Split training data and testing data"
   ]
  },
  {
   "cell_type": "code",
   "execution_count": 9,
   "metadata": {},
   "outputs": [],
   "source": [
    "training = energy_and_temp_df[:\"2019-12-31\"]\n",
    "test = energy_and_temp_df[\"2020-01\":]"
   ]
  }
 ],
 "metadata": {
  "kernelspec": {
   "display_name": "Python 3",
   "language": "python",
   "name": "python3"
  },
  "language_info": {
   "codemirror_mode": {
    "name": "ipython",
    "version": 3
   },
   "file_extension": ".py",
   "mimetype": "text/x-python",
   "name": "python",
   "nbconvert_exporter": "python",
   "pygments_lexer": "ipython3",
   "version": "3.6.7"
  }
 },
 "nbformat": 4,
 "nbformat_minor": 4
}
